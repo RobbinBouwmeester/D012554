{
 "cells": [
  {
   "cell_type": "markdown",
   "metadata": {},
   "source": [
    "# 2. Model selection and validation"
   ]
  },
  {
   "cell_type": "code",
   "execution_count": 1,
   "metadata": {},
   "outputs": [
    {
     "data": {
      "text/html": [
       "<link href='http://fonts.googleapis.com/css?family=Alegreya+Sans:100,300,400,500,700,800,900,100italic,300italic,400italic,500italic,700italic,800italic,900italic' rel='stylesheet' type='text/css'>\n",
       "<link href='http://fonts.googleapis.com/css?family=Arvo:400,700,400italic' rel='stylesheet' type='text/css'>\n",
       "<link href='http://fonts.googleapis.com/css?family=PT+Mono' rel='stylesheet' type='text/css'>\n",
       "<link href='http://fonts.googleapis.com/css?family=Shadows+Into+Light' rel='stylesheet' type='text/css'>\n",
       "<link href='http://fonts.googleapis.com/css?family=Philosopher:400,700,400italic,700italic' rel='stylesheet' type='text/css'>\n",
       "<link href='http://fonts.googleapis.com/css?family=Open+Sans' rel='stylesheet' type='text/css'>\n",
       "\n",
       "<style>\n",
       "\n",
       "@font-face {\n",
       "    font-family: \"Computer Modern\";\n",
       "    src: url('http://mirrors.ctan.org/fonts/cm-unicode/fonts/otf/cmunss.otf');\n",
       "}\n",
       "\n",
       "\n",
       "#notebook_panel { /* main background */\n",
       "    background: #888;\n",
       "    color: #f6f6f6;\n",
       "}\n",
       "\n",
       "div.cell { /* set cell width to about 80 chars */\n",
       "}\n",
       "\n",
       "div #notebook { /* centre the content */\n",
       "    background: #fff; /* white background for content */\n",
       "    margin: auto;\n",
       "}\n",
       "\n",
       "#notebook li { /* More space between bullet points */\n",
       "margin-top:0.8em;\n",
       "}\n",
       "\n",
       "/* draw border around running cells */\n",
       "div.cell.border-box-sizing.code_cell.running {\n",
       "    border: 3px solid #111;\n",
       "}\n",
       "\n",
       "/* Put a solid color box around each cell and its output, visually linking them together */\n",
       "div.cell.code_cell {\n",
       "    /*background-color: rgba(171,165,131,0.3); /*\n",
       "    border-radius: 10px; /* rounded borders */\n",
       "    padding: 1em;\n",
       "    /*margin-top: 1em;*/\n",
       "}\n",
       "\n",
       "div.text_cell_render{\n",
       "    font-family: 'Open Sans', Helvetica;\n",
       "    line-height: 140%;\n",
       "    font-size: 105%;\n",
       "    /*margin-top:15px;*/\n",
       "    margin-bottom:8px;\n",
       "    text-align:justify;\n",
       "}\n",
       "\n",
       "/* Formatting for header cells */\n",
       ".text_cell_render h1 {\n",
       "    font-family: 'Open Sans',sans-serif;\n",
       "    font-weight: 100;\n",
       "    font-size: 30pt;\n",
       "    line-height: 100%;\n",
       "    display: block;\n",
       "}\n",
       "\n",
       ".text_cell_render h2 {\n",
       "    font-family: 'Philosopher', serif;\n",
       "    font-weight: 700;\n",
       "    font-size: 24pt;\n",
       "    line-height: 100%;\n",
       "    color: rgb(171,165,131);\n",
       "    margin-bottom: 0.1em;\n",
       "    margin-top: 0.1em;\n",
       "    display: block;\n",
       "}    \n",
       "\n",
       ".text_cell_render h3 {\n",
       "    font-family: 'Philosopher', serif;\n",
       "    margin-top:12px;\n",
       "    margin-bottom: 3px;\n",
       "    font-style: italic;\n",
       "    color: rgb(95,92,72);\n",
       "}\n",
       "\n",
       ".text_cell_render h4 {\n",
       "    font-family: 'Philosopher', serif;\n",
       "}\n",
       "\n",
       ".text_cell_render h5 {\n",
       "    font-family: 'Alegreya Sans', sans-serif;\n",
       "    font-weight: 300;\n",
       "    font-size: 16pt;\n",
       "    color: grey;\n",
       "    font-style: italic;\n",
       "    margin-bottom: .1em;\n",
       "    margin-top: 0.1em;\n",
       "    display: block;\n",
       "}\n",
       "\n",
       ".text_cell_render h6 {\n",
       "    font-family: 'PT Mono', sans-serif;\n",
       "    font-weight: 300;\n",
       "    font-size: 10pt;\n",
       "    color: grey;\n",
       "    margin-bottom: 1px;\n",
       "    margin-top: 1px;\n",
       "}\n",
       "\n",
       ".CodeMirror{\n",
       "        font-family: \"PT Mono\";\n",
       "        font-size: 100%;\n",
       "}\n",
       "\n",
       ".output_area {\n",
       "\tmargin-top:20px;\n",
       "}\n",
       "\n",
       ".output_stderr {\n",
       "\tdisplay:none;\n",
       "\t}\n",
       "\n",
       ".output_subarea {\n",
       "\tdisplay: block;\n",
       "    margin: 0 auto;\n",
       "}\n",
       "\n",
       ".output_png img {\n",
       "    display: block;\n",
       "    margin-left: auto;\n",
       "    margin-right: auto;\n",
       "}\n",
       "\n",
       ".prompt {\n",
       "\tvisible: false;\n",
       "\t}\n",
       "\n",
       "</style>\n",
       "\n"
      ],
      "text/plain": [
       "<IPython.core.display.HTML object>"
      ]
     },
     "execution_count": 1,
     "metadata": {},
     "output_type": "execute_result"
    }
   ],
   "source": [
    "%matplotlib inline\n",
    "import warnings;warnings.filterwarnings('ignore');import matplotlib.pyplot as plt;import numpy as np;import pandas as pd;import seaborn as sns;sns.set_context(\"notebook\", font_scale=1.4);sns.set_style(\"whitegrid\");import imp;compomics_import = imp.load_source('compomics_import', '../compomics_import.py');from IPython.core.display import HTML;css_file = '../my.css';HTML(open(css_file, \"r\").read())"
   ]
  },
  {
   "cell_type": "markdown",
   "metadata": {},
   "source": [
    "**Model selection and validation** are fundamental steps in statistical learning applications. In particular, we wish to compute (select) the model that performs optimally for **unseen external data** (data not seen during fitting the model parameters). For instance, when we augment the features in a data set by polynomial features of a certain degree $d$ we need to set $d$ such that it allows for fitting a model that performs best on all unseen external data. \n",
    "Parameters such as $d$ that needs to be set by the user are known as a **hyperparameters**.\n",
    "\n",
    "Model selection is about the following considerations:\n",
    "\n",
    "- when is a model a good model (e.g. what metric to use to validate the generalization performance of the model)?\n",
    "- how to best pre-process the data (e.g. how to best normalize the data)?\n",
    "- what to assume about the true model underlying the data (e.g linear/non-linear)?\n",
    "- what are good values for the hyperparameters (this is known as **model tuning**)?\n",
    "\n",
    "All these decisssions have to be made such that the resulting prediction model performs well on **unseen data**. \n",
    "\n",
    "The issue is of course that we don't have access yet to the unseen data. So we have to create it. We can estimate the expected performance on unseen data by splitting the data set into a data set for fitting (the **train set**) and a data set for testing the model (the **test set**). The process of fitting a model on a data set is also known as **training**.   \n",
    "\n",
    "The testing data should **never** be used to make decission about what model to select.\n",
    "\n",
    "Let's load a regression dataset:"
   ]
  },
  {
   "cell_type": "code",
   "execution_count": 2,
   "metadata": {},
   "outputs": [
    {
     "data": {
      "image/png": "[encoded data removed]",
      "text/plain": [
       "<matplotlib.figure.Figure at 0xf464c88>"
      ]
     },
     "metadata": {},
     "output_type": "display_data"
    }
   ],
   "source": [
    "dataset = pd.read_csv(\"dataset.csv\")\n",
    "\n",
    "sns.lmplot(x=\"x1\", y=\"y\", data=dataset, fit_reg=False, size=5.5, scatter_kws={\"s\": 80})\n",
    "plt.show()"
   ]
  },
  {
   "cell_type": "markdown",
   "metadata": {},
   "source": [
    "We randomly select 50% of the data set that we will treat as the unseen external data, known as the **(independent) test set**. The other 50% data points will be used for fitting (or **training**) a model and is known as the **train set**."
   ]
  },
  {
   "cell_type": "code",
   "execution_count": 3,
   "metadata": {},
   "outputs": [
    {
     "data": {
      "image/png": "[encoded data removed]",
      "text/plain": [
       "<matplotlib.figure.Figure at 0xf4b1b70>"
      ]
     },
     "metadata": {},
     "output_type": "display_data"
    }
   ],
   "source": [
    "np.random.seed(1234)\n",
    "\n",
    "dataset['folds'] = np.random.randint(2,size=len(dataset))\n",
    "\n",
    "sns.lmplot(x=\"x1\", y=\"y\", col=\"folds\", \n",
    "           data=dataset, fit_reg=False, size=5.5, scatter_kws={\"s\": 80})\n",
    "plt.show()"
   ]
  },
  {
   "cell_type": "markdown",
   "metadata": {},
   "source": [
    "Now we will augment the feature vectors with polynomial features of various degrees $d$ and fit a linear regression model to each train set. We evaluate the prediction performance on the corresponding test set: "
   ]
  },
  {
   "cell_type": "code",
   "execution_count": 4,
   "metadata": {},
   "outputs": [
    {
     "data": {
      "image/png": "[encoded data removed]",
      "text/plain": [
       "<matplotlib.figure.Figure at 0xf984d68>"
      ]
     },
     "metadata": {},
     "output_type": "display_data"
    }
   ],
   "source": [
    "from sklearn.linear_model import LinearRegression\n",
    "from sklearn.preprocessing import MinMaxScaler\n",
    "\n",
    "feature_scaler = MinMaxScaler()\n",
    "model = LinearRegression()\n",
    "\n",
    "X = dataset.copy()\n",
    "y = X.pop('y')\n",
    "folds = X.pop('folds')\n",
    "\n",
    "train_scores = [0] #no features (d=0)\n",
    "test_scores = [0]\n",
    "\n",
    "model.fit(X[folds!=1],y[folds!=1])\n",
    "train_scores.append(model.score(X[folds!=1],y[folds!=1])) # d=1\n",
    "test_scores.append(model.score(X[folds==1],y[folds==1]))\n",
    "\n",
    "for degree in range(2,18,1):\n",
    "    X['x1^'+str(degree)] = X['x1']**degree\n",
    "    X['x1^'+str(degree)] = feature_scaler.fit_transform(X[ ['x1^'+str(degree)]])\n",
    "    model.fit(X[folds!=1],y[folds!=1])\n",
    "    train_scores.append(model.score(X[folds!=1],y[folds!=1]))\n",
    "    test_scores.append(model.score(X[folds==1],y[folds==1]))\n",
    "\n",
    "tmp = pd.DataFrame()\n",
    "tmp['train-scores'] = train_scores\n",
    "tmp['test-scores'] = test_scores\n",
    "tmp.plot()\n",
    "plt.show()"
   ]
  },
  {
   "cell_type": "markdown",
   "metadata": {},
   "source": [
    "The blue curve shows how the accuracy on the train set increases with $d$ while the green curve shows how the accuracy on the test set starts to decrease for large values of $d$. Since both the train and test set are drawn randomly from the same data set we can conclude that $d>3$ allowed the linear regression algorithm to **fit the noise** in the augmented train set. We call this **overfitting**. For $d<3$ we can conclude that the model is not complex enough to fit the data set accurately. We call this **underfitting**.\n",
    "\n",
    "It is not easy to avoid overfitting. For instance, to find the optimal value for $d$ we could train models with different values for $d$ on the train set and select the setting that performs best on the test set. We could then report the accuracy on this test set as an estimate of the performance of the model. However, in this case the test set would not represent true unseen external data as it is used to decide on the optimal value for $d$. As consequence the reported estimated generalization performance can be overly optimistic and not reflect the true expected generalization performance on the uneen external data.\n",
    "\n",
    "To solve this problem, yet another part of the data set should be held out (known as the **validation set**). In this case a model is fitted on the train set and the optimal value for $d$ is selected using the validation set. A model is then trained on the union of the train and validation set using the best value for $d$ and the performance of this model is then tested on the test set to estimate the generalization performance. \n",
    "\n",
    "However, by partitioning the available data into three sets, we drastically reduce the number of samples which can be used for training and evaluating the model. Especially for smaller data sets this means that not only the fit of the model (train set) but also the decision on the values of the hyperparameters (validation set) as well as the estimation of the generalization performance (test set) will depend strongly on a particular random choice of the data set splits. \n",
    "\n",
    "To make our conclusions less dependent on the choice of the data split we can perform an approach called **cross-validation** (CV). In the basic setup, called **$k$-fold CV**, the data set is split into $k$ disjoint sets of approximately equal size. The following procedure is followed for each of the $k$ “folds” $D_i$ ($i=1 \\ldots k$):\n",
    "\n",
    "1. train a model $m_i$ on the data points in folds $D_j$ with $j \\ne i$,\n",
    "2. use $m_i$ to compute predictions for $D_i.$\n",
    "\n",
    "As you can see we now have one prediction for each data point such that the model that computed that prediction was not trained on a train set that contained that data point. The performance measure reported by k-fold cross-validation is computed using these predictions and constitutes a good estimate for the generalization performance of the model. At the same time by choosing larger values for $k$ (typical value is 10) the size of the train set becomes larger and better models can be fitted, while still computing one prediction for each data point. \n",
    "\n",
    "Let's look at an implementation of the cross-validation loop:"
   ]
  },
  {
   "cell_type": "code",
   "execution_count": 5,
   "metadata": {},
   "outputs": [
    {
     "name": "stdout",
     "output_type": "stream",
     "text": [
      "[-0.87043807 -0.59124865 -0.24619693  0.25542288  0.17247272 -0.76810345\n",
      " -0.39969885  0.03145744  0.32923122 -0.8011339   0.72823881  0.33756766\n",
      " -0.25643039 -0.22097393  0.27709494 -0.67114179 -0.27545816 -0.44605786\n",
      "  0.33007803  0.13749306 -0.63214386  0.66268889  0.55431515 -0.01082733\n",
      "  0.18751171  0.33837304  1.05345264  0.48409826 -0.18479617  0.00410999\n",
      " -0.36670334  0.28754901 -0.17929172 -0.39048885 -0.91137191 -0.37102988\n",
      " -0.69162855 -0.01001764 -0.1627871  -0.15409578 -0.36311251 -0.50203346\n",
      "  0.02696594 -0.78379704 -0.75786999 -0.00753461  0.04033998 -0.91289859\n",
      " -0.55091831 -0.37936633  0.77735295]\n"
     ]
    }
   ],
   "source": [
    "def my_cross_val_predict(model,X,y,cv=5):\n",
    "    predictions = np.empty(len(y))\n",
    "    folds = np.random.randint(0,cv,size=len(y))\n",
    "    for i in range(cv):\n",
    "        Xtest = X[folds==i]\n",
    "        ytest = y[folds==i]\n",
    "        Xtrain = X[folds!=i]\n",
    "        ytrain = y[folds!=i]\n",
    "        model.fit(Xtrain,ytrain)\n",
    "        p = model.predict(Xtest)\n",
    "        counter = 0\n",
    "        for j in range(len(folds)):\n",
    "            if folds[j] == i:\n",
    "                predictions[j] = p[counter]\n",
    "                counter += 1            \n",
    "    return predictions\n",
    "        \n",
    "X = dataset[dataset['folds']==0].copy()\n",
    "y = X.pop('y')    \n",
    "folds = X.pop('folds')\n",
    "\n",
    "cv_predictions = my_cross_val_predict(model,X,y,cv=5)\n",
    "\n",
    "print cv_predictions"
   ]
  },
  {
   "cell_type": "markdown",
   "metadata": {},
   "source": [
    "We can now compute an estimate of the generalization performance of the model using these predictions:"
   ]
  },
  {
   "cell_type": "code",
   "execution_count": 6,
   "metadata": {},
   "outputs": [
    {
     "name": "stdout",
     "output_type": "stream",
     "text": [
      "0.3968355011488861\n"
     ]
    }
   ],
   "source": [
    "from sklearn import metrics\n",
    "\n",
    "print metrics.r2_score(y,cv_predictions)"
   ]
  },
  {
   "cell_type": "markdown",
   "metadata": {},
   "source": [
    "In scikit-learn we can use the `cross_val_predict()` function in the module `sklearn.cross_validation` to do the same thing:"
   ]
  },
  {
   "cell_type": "code",
   "execution_count": 7,
   "metadata": {},
   "outputs": [
    {
     "name": "stdout",
     "output_type": "stream",
     "text": [
      "[-0.94689643 -0.67405743 -0.35249718  0.31985608  0.22241358 -0.84945393\n",
      " -0.49866093  0.05676133  0.42704283 -0.89817518  0.87527833  0.35998747\n",
      " -0.30469029 -0.18310289  0.22218842 -0.62081751 -0.25605533 -0.4019602\n",
      "  0.33566999  0.16544764 -0.60460586  0.86251173  0.73623463 -0.07970966\n",
      "  0.30883524  0.4642532   0.93050709  0.55167581 -0.24484124  0.09513555\n",
      " -0.36140471  0.40868214 -0.06180893 -0.31385772 -0.76754554 -0.25504634\n",
      " -0.59111139  0.08942034 -0.11221869 -0.1458252  -0.28865284 -0.50281178\n",
      "  0.04857461 -0.81526406 -0.73255611  0.01181552 -0.0157538  -0.9071618\n",
      " -0.56714019 -0.31901631  0.84808487]\n"
     ]
    }
   ],
   "source": [
    "from sklearn.model_selection import cross_val_predict\n",
    "\n",
    "cv_predictions = cross_val_predict(model,X,y,cv=5)\n",
    "print cv_predictions"
   ]
  },
  {
   "cell_type": "code",
   "execution_count": 8,
   "metadata": {},
   "outputs": [
    {
     "name": "stdout",
     "output_type": "stream",
     "text": [
      "0.41220785506230706\n"
     ]
    }
   ],
   "source": [
    "print metrics.r2_score(y,cv_predictions)"
   ]
  },
  {
   "cell_type": "markdown",
   "metadata": {},
   "source": [
    "To optimize the degree $d$ we can now use the CV loop:"
   ]
  },
  {
   "cell_type": "code",
   "execution_count": 9,
   "metadata": {},
   "outputs": [
    {
     "data": {
      "image/png": "[encoded data removed]",
      "text/plain": [
       "<matplotlib.figure.Figure at 0xf912fd0>"
      ]
     },
     "metadata": {},
     "output_type": "display_data"
    },
    {
     "name": "stdout",
     "output_type": "stream",
     "text": [
      "best CV score: 0.777961\n",
      "optimal degree d: 4\n"
     ]
    }
   ],
   "source": [
    "X = dataset[dataset['folds']==0].copy()\n",
    "y = X.pop('y')\n",
    "folds = X.pop('folds')\n",
    "\n",
    "scores = []\n",
    "scores.append(0) # no features (d=0)\n",
    "cv_predictions = cross_val_predict(model, X, y, cv=5) # (d=1)\n",
    "scores.append(metrics.r2_score(y,cv_predictions)) \n",
    "for degree in range(2,18,1):\n",
    "    X['x1^'+str(degree)] = X['x1']**degree\n",
    "    X['x1^'+str(degree)] = feature_scaler.fit_transform(X[ ['x1^'+str(degree)]])\n",
    "    cv_predictions = cross_val_predict(model, X, y, cv=5) # (d=1)\n",
    "    scores.append(metrics.r2_score(y,cv_predictions)) \n",
    "\n",
    "tmp = pd.DataFrame(scores,columns=['cv_score'])\n",
    "tmp.plot(ylim=(0,1))\n",
    "plt.show()\n",
    "print \"best CV score: %f\" % (max(scores))\n",
    "print \"optimal degree d: %i\" % (np.argmax(scores))"
   ]
  },
  {
   "cell_type": "markdown",
   "metadata": {},
   "source": [
    "Should we consider this best CV score a good estimated of the generalization performance of a model with optimal degree $d$? No. The CV predictions were used to make the decision on the optimal degree $d$. Instead we need a second CV loop that is nested in the first loop to estimate the generalization performance while minimizing the possibility of overfitting. This is called **nested-CV** and will be explained further in this course."
   ]
  },
  {
   "cell_type": "markdown",
   "metadata": {},
   "source": [
    "<strong>Exercises</strong>\n",
    "\n",
    "- Load the 'diabetes.tsv' (under \"1_regression\") data set and standardize all the columns (including the target 'Y'). Plot the result as boxplots."
   ]
  },
  {
   "cell_type": "code",
   "execution_count": null,
   "metadata": {},
   "outputs": [],
   "source": []
  },
  {
   "cell_type": "markdown",
   "metadata": {},
   "source": [
    "- Split this standardized data set into two folds at random. Then use one fold the train a linear regression model on all the features. Compute $R^2$ of this model on both the train and test set."
   ]
  },
  {
   "cell_type": "code",
   "execution_count": null,
   "metadata": {},
   "outputs": [],
   "source": []
  }
 ],
 "metadata": {
  "kernelspec": {
   "display_name": "Python 2",
   "language": "python",
   "name": "python2"
  },
  "language_info": {
   "codemirror_mode": {
    "name": "ipython",
    "version": 2
   },
   "file_extension": ".py",
   "mimetype": "text/x-python",
   "name": "python",
   "nbconvert_exporter": "python",
   "pygments_lexer": "ipython2",
   "version": "2.7.14"
  }
 },
 "nbformat": 4,
 "nbformat_minor": 1
}
